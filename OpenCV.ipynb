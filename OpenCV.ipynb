{
 "cells": [
  {
   "cell_type": "markdown",
   "id": "6469d6a5-eb42-40ff-91b5-df47fa0ed5a4",
   "metadata": {},
   "source": [
    "# 1. 이미지 출력 \n",
    "> pip install cpencv-python"
   ]
  },
  {
   "cell_type": "code",
   "execution_count": 1,
   "id": "31f71574-06c0-40f7-86d7-f458a1ce5c2a",
   "metadata": {},
   "outputs": [],
   "source": [
    "import cv2\n",
    "cv2.__version__\n",
    "\n",
    "import numpy as np"
   ]
  },
  {
   "cell_type": "code",
   "execution_count": 12,
   "id": "2c9f8bd4-9a13-4602-a91e-24dd85f73aac",
   "metadata": {},
   "outputs": [],
   "source": [
    "img = cv2.imread('img.jpg')\n",
    "cv2.imshow('img', img)\n",
    "key = cv2.waitKey(0)\n",
    "cv2.destroyAllWindows()"
   ]
  },
  {
   "cell_type": "markdown",
   "id": "f29e4d83-7051-4460-861c-2a660e639449",
   "metadata": {},
   "source": [
    "## 1.1 읽기 옵션\n",
    "* cv2.IMREAD_COLOR : 컬러 이미지. 투명은 무시(기본값)\n",
    "* cv2.IMREAD_GRAYSCALE : 흑백이미지\n",
    "* cv2.IMREAD_UNCHANGED : 투명 영역까지 포함"
   ]
  },
  {
   "cell_type": "code",
   "execution_count": 16,
   "id": "aecdf3cc-f41e-49d7-a44b-f80dbd1fd1fc",
   "metadata": {},
   "outputs": [],
   "source": [
    "img_color = cv2.imread('img.jpg', cv2.IMREAD_COLOR)\n",
    "img_gray = cv2.imread('img.jpg', cv2.IMREAD_GRAYSCALE)\n",
    "img_unchanged = cv2.imread('img.jpg', cv2.IMREAD_UNCHANGED)\n",
    "\n",
    "cv2.imshow('img_color', img_color)\n",
    "cv2.imshow('img_gray', img_gray)\n",
    "cv2.imshow('img_unchanged', img_unchanged)\n",
    "\n",
    "key = cv2.waitKey(0)\n",
    "cv2.destroyAllWindows()"
   ]
  },
  {
   "cell_type": "markdown",
   "id": "f20523ce-981d-4827-9b4f-73d6f4f06d3e",
   "metadata": {},
   "source": [
    "## 1.2 Shape\n",
    "이미지의 높이 너비 채널 정보"
   ]
  },
  {
   "cell_type": "code",
   "execution_count": 14,
   "id": "16794d5e-6f7c-4bad-ac06-6a228d2417a1",
   "metadata": {},
   "outputs": [
    {
     "data": {
      "text/plain": [
       "(390, 640, 3)"
      ]
     },
     "execution_count": 14,
     "metadata": {},
     "output_type": "execute_result"
    }
   ],
   "source": [
    "img.shape #세로 가로 채널(알쥐비3)"
   ]
  },
  {
   "cell_type": "markdown",
   "id": "c5d5de1b-6cbb-467f-a962-226e75bd5d45",
   "metadata": {},
   "source": [
    "# 2. 동영상 출력\n",
    "## 2.1 동영상 파일 출력"
   ]
  },
  {
   "cell_type": "code",
   "execution_count": 17,
   "id": "6d37d0cc-39d8-401e-a0b0-e327ea853832",
   "metadata": {},
   "outputs": [
    {
     "name": "stdout",
     "output_type": "stream",
     "text": [
      "Not more Frame\n"
     ]
    }
   ],
   "source": [
    "cap = cv2.VideoCapture('video.mp4')\n",
    "\n",
    "while cap.isOpened():\n",
    "    ret, frame = cap.read() #성공여부, 받아온이마지\n",
    "    if not ret:\n",
    "        print('Not more Frame')\n",
    "        break\n",
    "    \n",
    "    cv2.imshow('video', frame)\n",
    "    \n",
    "    if cv2.waitKey(1) == ord('q'):\n",
    "        print('사용자 종료')\n",
    "        break\n",
    "        \n",
    "cap.release() #자원해제\n",
    "cv2.destroyAllWindows()"
   ]
  },
  {
   "cell_type": "markdown",
   "id": "38226b6e-0348-47b0-ad64-1d59230f2d2c",
   "metadata": {},
   "source": [
    "## 2.2 카메라 출력"
   ]
  },
  {
   "cell_type": "code",
   "execution_count": 19,
   "id": "34dca0f0-de67-4e06-b1fc-6265ff30ad78",
   "metadata": {},
   "outputs": [
    {
     "name": "stdout",
     "output_type": "stream",
     "text": [
      "사용자 종료\n"
     ]
    }
   ],
   "source": [
    "cap = cv2.VideoCapture(0) # 0번쨰 카메라 장치 Device ID\n",
    "\n",
    "if not cap.isOpened():\n",
    "    exit()\n",
    "    \n",
    "while True:\n",
    "    ret, frame = cap.read()\n",
    "    if not ret:\n",
    "        break\n",
    "    \n",
    "    cv2.imshow('camera', frame)\n",
    "    if cv2.waitKey(1) == ord('q'):\n",
    "        print('사용자 종료')\n",
    "        break\n",
    "\n",
    "cap.release() #자원해제\n",
    "cv2.destroyAllWindows()"
   ]
  },
  {
   "cell_type": "markdown",
   "id": "cc070423-7bf9-4f25-add2-49533f2807ac",
   "metadata": {},
   "source": [
    "# 3. 도형 그리기\n",
    "## 3.1 빈 스케치북 만들기"
   ]
  },
  {
   "cell_type": "code",
   "execution_count": 29,
   "id": "caa20020-c3d0-43b8-bb89-8674d4706fd6",
   "metadata": {},
   "outputs": [],
   "source": [
    "# h:480, w:640 3ch\n",
    "img = np.zeros((480, 640, 3), dtype = np.uint8)\n",
    "# img[:] = (255, 255, 255); img \n",
    "\n",
    "cv2.imshow('img', img)\n",
    "key = cv2.waitKey(0)\n",
    "cv2.destroyAllWindows()"
   ]
  },
  {
   "cell_type": "markdown",
   "id": "80718f36-d2b6-4a27-b624-95753c4b25d9",
   "metadata": {},
   "source": [
    "## 3.2 일부 영역 색칠"
   ]
  },
  {
   "cell_type": "code",
   "execution_count": 35,
   "id": "0fcb2cdf-7f90-4a82-9abd-3de5ec7edfce",
   "metadata": {},
   "outputs": [],
   "source": [
    "img = np.zeros((480, 640, 3), dtype = np.uint8)\n",
    "img[100:200, 200:300] = (255, 255, 255)\n",
    "# [세로, 가로]\n",
    "# print(img)\n",
    "cv2.imshow('img', img)\n",
    "key = cv2.waitKey(0)\n",
    "cv2.destroyAllWindows()"
   ]
  },
  {
   "cell_type": "markdown",
   "id": "4cf65504-0f39-466e-85a5-980e6ccf098a",
   "metadata": {},
   "source": [
    "## 3.3 직선\n",
    "\n",
    "* cv2.LINE_4 : 상하좌우 4방향연결 선\n",
    "* cv2.LINE_8 : 대각선포함 8방향으로 연결된 선\n",
    "* cv2.LINE_AA : 부드러운 선 anti allising\n",
    "* cv2.LINE_ :  선"
   ]
  },
  {
   "cell_type": "code",
   "execution_count": 38,
   "id": "be7d8e2c-d9c1-4001-9209-5dbe47ddc70a",
   "metadata": {},
   "outputs": [],
   "source": [
    "img = np.zeros((480, 640, 3), dtype = np.uint8)\n",
    "\n",
    "COLOR = (0, 255, 255) #BGR\n",
    "THICKNESS = 3 # 두께\n",
    "\n",
    "cv2.line(img, (50, 100), (400, 50), COLOR, THICKNESS, cv2.LINE_8)\n",
    "cv2.line(img, (50, 200), (400, 150), COLOR, THICKNESS, cv2.LINE_4)\n",
    "cv2.line(img, (50, 300), (400, 250), COLOR, THICKNESS, cv2.LINE_AA)\n",
    "\n",
    "cv2.imshow('img', img)\n",
    "key = cv2.waitKey(0)\n",
    "cv2.destroyAllWindows()"
   ]
  },
  {
   "cell_type": "markdown",
   "id": "14d8f200-c72b-4bde-930a-92990d96a27a",
   "metadata": {},
   "source": [
    "## 3.4 원"
   ]
  },
  {
   "cell_type": "code",
   "execution_count": 6,
   "id": "465322f5-ba42-41d8-9560-d78a4cf1d29b",
   "metadata": {},
   "outputs": [],
   "source": [
    "img = np.zeros((480, 640, 3), dtype = np.uint8)\n",
    "\n",
    "RADIUS = 50\n",
    "COLOR = (255, 255, 0) #BGR\n",
    "THICKNESS = 10 # 두께\n",
    "\n",
    "cv2.circle(img, (200,100), RADIUS, COLOR,THICKNESS, cv2.LINE_AA)\n",
    "cv2.circle(img, (400,100), RADIUS, COLOR,cv2.FILLED, cv2.LINE_AA)\n",
    "\n",
    "cv2.imshow('img', img)\n",
    "key = cv2.waitKey(0)\n",
    "cv2.destroyAllWindows()"
   ]
  },
  {
   "cell_type": "markdown",
   "id": "b0fdd2a3-9f4b-46de-8e14-7cee6db2b425",
   "metadata": {},
   "source": [
    "## 3.5 사각형"
   ]
  },
  {
   "cell_type": "code",
   "execution_count": 5,
   "id": "95393c12-24a9-4f2c-a587-f8e4e6c141b3",
   "metadata": {},
   "outputs": [],
   "source": [
    "img = np.zeros((480, 640, 3), dtype = np.uint8)\n",
    "\n",
    "COLOR = (0, 255, 0) #BGR\n",
    "THICKNESS = 3 # 두께\n",
    "\n",
    "#왼쪾위 , 오른쪽아래\n",
    "cv2.rectangle(img, (100,100), (200, 200),COLOR,THICKNESS)\n",
    "cv2.rectangle(img, (300,100), (400, 300),COLOR,cv2.FILLED)\n",
    "\n",
    "\n",
    "cv2.imshow('img', img)\n",
    "key = cv2.waitKey(0)\n",
    "cv2.destroyAllWindows()"
   ]
  },
  {
   "cell_type": "markdown",
   "id": "df5a84cd-3720-49d0-860e-ba6c1ee92952",
   "metadata": {},
   "source": [
    "## 3.6 다각형"
   ]
  },
  {
   "cell_type": "code",
   "execution_count": 8,
   "id": "3a10dd88-0b61-40bf-b126-66a0d79badcb",
   "metadata": {},
   "outputs": [],
   "source": [
    "img = np.zeros((480, 640, 3), dtype = np.uint8)\n",
    "\n",
    "COLOR = (0, 0, 255) #BGR\n",
    "THICKNESS = 3 # 두께\n",
    "\n",
    "pts1 = np.array([[100, 100], [200, 100], [100, 200]])\n",
    "pts2 = np.array([[200, 100], [300, 100], [300, 200]])\n",
    "\n",
    "# cv2.polylines(img, [pts1], True, COLOR, THICKNESS, cv2.LINE_AA)\n",
    "# cv2.polylines(img, [pts2], True, COLOR, THICKNESS, cv2.LINE_AA)\n",
    "\n",
    "cv2.polylines(img, [pts1, pts2], True, COLOR, THICKNESS, cv2.LINE_AA)\n",
    "\n",
    "pts3 = np.array([[[100,300], [200,300], [100,400]], [[200,300], [300,300], [300,400]]])\n",
    "cv2.fillPoly(img, pts3, COLOR, cv2.LINE_AA)\n",
    "\n",
    "cv2.imshow('img', img)\n",
    "key = cv2.waitKey(0)\n",
    "cv2.destroyAllWindows()"
   ]
  },
  {
   "cell_type": "markdown",
   "id": "ed201565-604f-4a57-a7c9-6e7cde2cfc46",
   "metadata": {},
   "source": [
    "# 4. 텍스트\n",
    "## 4.1 OpecCV에서 사용하는 글꼴 종류"
   ]
  },
  {
   "cell_type": "code",
   "execution_count": 12,
   "id": "851cd701-5c67-41b5-9a38-fa8dc391dad9",
   "metadata": {},
   "outputs": [],
   "source": [
    "img = np.zeros((480, 640, 3), dtype = np.uint8)\n",
    "\n",
    "SCALE = 1\n",
    "COLOR = (255,255,255)\n",
    "THICKNESS = 1\n",
    "\n",
    "cv2.putText(img, \"FONT_HERSHEY_SIMPLEX\", (20, 50), cv2.FONT_HERSHEY_SIMPLEX, SCALE, COLOR, THICKNESS)\n",
    "cv2.putText(img, \"FONT_HERSHEY_PLAIN\", (20, 150), cv2.FONT_HERSHEY_PLAIN, SCALE, COLOR, THICKNESS)\n",
    "cv2.putText(img, \"FONT_HERSHEY_SCRIPT_SIMPLEX\", (20, 250), cv2.FONT_HERSHEY_SCRIPT_SIMPLEX, SCALE, COLOR, THICKNESS)\n",
    "cv2.putText(img, \"FONT_HERSHEY_TRIPLEX\", (20, 350), cv2.FONT_HERSHEY_TRIPLEX, SCALE, COLOR, THICKNESS)\n",
    "cv2.putText(img, \"FONT_ITALIC\", (20, 450), cv2.FONT_HERSHEY_TRIPLEX | cv2.FONT_ITALIC, SCALE, COLOR, THICKNESS)\n",
    "\n",
    "\n",
    "cv2.imshow('img', img)\n",
    "key = cv2.waitKey(0)\n",
    "cv2.destroyAllWindows()"
   ]
  },
  {
   "cell_type": "markdown",
   "id": "a062ac3e-3335-49e3-a4fb-9b2a246739fc",
   "metadata": {},
   "source": [
    "## 4.2 한글우회"
   ]
  },
  {
   "cell_type": "code",
   "execution_count": 13,
   "id": "dd29cf84-2e00-409c-a7a9-9735fe36cd74",
   "metadata": {},
   "outputs": [],
   "source": [
    "from PIL import ImageFont, ImageDraw, Image"
   ]
  },
  {
   "cell_type": "code",
   "execution_count": 16,
   "id": "259c831e-3b85-43f3-bc04-e8190967d00d",
   "metadata": {},
   "outputs": [],
   "source": [
    "def myPutText(src,text, pos, font_size, font_color):\n",
    "    img_pil = Image.fromarray(src)\n",
    "    draw = ImageDraw.Draw(img_pil)\n",
    "    font = ImageFont.truetype('fonts/gulim.ttc', font_size)\n",
    "    draw.text(pos, text, font=font, fill=font_color)\n",
    "    return np.array(img_pil)"
   ]
  },
  {
   "cell_type": "code",
   "execution_count": 17,
   "id": "8c97d234-6ecb-4158-9360-8c8c072eea53",
   "metadata": {},
   "outputs": [],
   "source": [
    "img = np.zeros((480, 640, 3), dtype = np.uint8)\n",
    "\n",
    "FONT_SIZE = 30\n",
    "COLOR = (255,255,255)\n",
    "\n",
    "img = myPutText(img, \"한글\", (20,50), FONT_SIZE, COLOR)\n",
    "\n",
    "cv2.imshow('img', img)\n",
    "key = cv2.waitKey(0)\n",
    "cv2.destroyAllWindows()"
   ]
  },
  {
   "cell_type": "markdown",
   "id": "71f5fbe1-4a58-45a4-9022-5bd3f5f5b433",
   "metadata": {},
   "source": [
    "# 5. 파일 저장\n",
    "## 5.1 이미지 저장"
   ]
  },
  {
   "cell_type": "code",
   "execution_count": 4,
   "id": "d992cac6-4970-46fb-8cd5-980c59934736",
   "metadata": {},
   "outputs": [
    {
     "name": "stdout",
     "output_type": "stream",
     "text": [
      "True\n"
     ]
    }
   ],
   "source": [
    "img = cv2.imread('img.jpg', cv2.IMREAD_GRAYSCALE)\n",
    "cv2.imshow('img', img)\n",
    "cv2.waitKey(0)\n",
    "cv2.destroyAllWindows\n",
    "\n",
    "result = cv2.imwrite('img_save.jpg', img)\n",
    "print(result)"
   ]
  },
  {
   "cell_type": "code",
   "execution_count": 5,
   "id": "156aa1ac-a332-45e6-ae01-098efce9481e",
   "metadata": {},
   "outputs": [
    {
     "name": "stdout",
     "output_type": "stream",
     "text": [
      "True\n"
     ]
    }
   ],
   "source": [
    "img = cv2.imread('img.jpg', cv2.IMREAD_GRAYSCALE)\n",
    "cv2.imwrite('img_save.png', img)"
   ]
  },
  {
   "cell_type": "markdown",
   "id": "9b6a570b-4e21-45d1-83ed-cd22330debd0",
   "metadata": {},
   "source": [
    "## 5.2 동영상 저장"
   ]
  },
  {
   "cell_type": "code",
   "execution_count": 6,
   "id": "9b59d58a-156e-4d57-b506-fa1ba039e6bc",
   "metadata": {},
   "outputs": [
    {
     "name": "stdout",
     "output_type": "stream",
     "text": [
      "Not more Frame\n"
     ]
    }
   ],
   "source": [
    "cap = cv2.VideoCapture('video.mp4')\n",
    "\n",
    "# 코덱 정의\n",
    "fourcc = cv2.VideoWriter_fourcc(*'DIVX')\n",
    "\n",
    "width = round(cap.get(cv2.CAP_PROP_FRAME_WIDTH))\n",
    "height = round(cap.get(cv2.CAP_PROP_FRAME_HEIGHT))\n",
    "fps = cap.get(cv2.CAP_PROP_FPS)\n",
    "\n",
    "out = cv2.VideoWriter('output.avi', fourcc, fps, (width, height))\n",
    "\n",
    "while cap.isOpened():\n",
    "    ret, frame = cap.read() #성공여부, 받아온이마지\n",
    "    if not ret:\n",
    "        print('Not more Frame')\n",
    "        break\n",
    "    out.write(frame)\n",
    "    cv2.imshow('video', frame)\n",
    "    \n",
    "    if cv2.waitKey(1) == ord('q'):\n",
    "        print('사용자 종료')\n",
    "        break\n",
    "out.release()        \n",
    "cap.release() #자원해제\n",
    "cv2.destroyAllWindows()"
   ]
  },
  {
   "cell_type": "code",
   "execution_count": 7,
   "id": "213b0676-9fa5-422c-ba09-7e8339b43ae8",
   "metadata": {},
   "outputs": [
    {
     "name": "stdout",
     "output_type": "stream",
     "text": [
      "Not more Frame\n"
     ]
    }
   ],
   "source": [
    "cap = cv2.VideoCapture('video.mp4')\n",
    "\n",
    "# 코덱 정의\n",
    "fourcc = cv2.VideoWriter_fourcc(*'DIVX')\n",
    "\n",
    "width = round(cap.get(cv2.CAP_PROP_FRAME_WIDTH))\n",
    "height = round(cap.get(cv2.CAP_PROP_FRAME_HEIGHT))\n",
    "fps = cap.get(cv2.CAP_PROP_FPS) * 2\n",
    "\n",
    "out = cv2.VideoWriter('output.avi', fourcc, fps, (width, height))\n",
    "\n",
    "while cap.isOpened():\n",
    "    ret, frame = cap.read() #성공여부, 받아온이마지\n",
    "    if not ret:\n",
    "        print('Not more Frame')\n",
    "        break\n",
    "    out.write(frame)\n",
    "    cv2.imshow('video', frame)\n",
    "    \n",
    "    if cv2.waitKey(1) == ord('q'):\n",
    "        print('사용자 종료')\n",
    "        break\n",
    "out.release()        \n",
    "cap.release() #자원해제\n",
    "cv2.destroyAllWindows()"
   ]
  },
  {
   "cell_type": "markdown",
   "id": "028e4bba-2789-474d-8d51-0f019beb26ed",
   "metadata": {},
   "source": [
    "# 6. 크기 조정\n",
    "## 6.1 이미지"
   ]
  },
  {
   "cell_type": "markdown",
   "id": "5fc3fe6d-04b8-40cd-af63-86b170c3faf5",
   "metadata": {},
   "source": [
    "### 고정크기"
   ]
  },
  {
   "cell_type": "code",
   "execution_count": 3,
   "id": "a1af0342-ad93-47b0-876c-61da57d90ca8",
   "metadata": {},
   "outputs": [],
   "source": [
    "img = cv2.imread('img.jpg')\n",
    "dst = cv2.resize(img, (400, 500))\n",
    "\n",
    "cv2.imshow('img', img)\n",
    "cv2.imshow('resize', dst)\n",
    "cv2.waitKey(0)\n",
    "cv2.destroyAllWindows()"
   ]
  },
  {
   "cell_type": "markdown",
   "id": "6344450b-833f-463f-a93c-e00c9a5c1530",
   "metadata": {},
   "source": [
    "### 비율"
   ]
  },
  {
   "cell_type": "code",
   "execution_count": 4,
   "id": "0fa54001-e7ee-4723-9d63-7f44f3faa37f",
   "metadata": {},
   "outputs": [],
   "source": [
    "img = cv2.imread('img.jpg')\n",
    "dst = cv2.resize(img, None, fx = 0.5, fy = 0.5)\n",
    "\n",
    "cv2.imshow('img', img)\n",
    "cv2.imshow('resize', dst)\n",
    "cv2.waitKey(0)\n",
    "cv2.destroyAllWindows()"
   ]
  },
  {
   "cell_type": "markdown",
   "id": "fecdcbb6-d16d-4179-9961-993347053e7c",
   "metadata": {},
   "source": [
    "### 보간법\n",
    "* cv2.INTER_AREA : 크기줄일때 사용\n",
    "* cv2.INTER_CUBIC : 크기 늘릴 때 사용(속도느림, 퀄리티 좋음)\n",
    "* cv2.INTER_LINEAR : 크기 늘릴떄 (default)"
   ]
  },
  {
   "cell_type": "code",
   "execution_count": 6,
   "id": "2bca748f-2b19-4fab-9598-887371dcf008",
   "metadata": {},
   "outputs": [],
   "source": [
    "#축소\n",
    "img = cv2.imread('img.jpg')\n",
    "dst = cv2.resize(img, None, fx = 0.5, fy = 0.5, interpolation = cv2.INTER_AREA)\n",
    "\n",
    "cv2.imshow('img', img)\n",
    "cv2.imshow('resize', dst)\n",
    "cv2.waitKey(0)\n",
    "cv2.destroyAllWindows()"
   ]
  },
  {
   "cell_type": "code",
   "execution_count": 8,
   "id": "62008c75-fb56-4018-85d1-aed74cb7ee98",
   "metadata": {},
   "outputs": [],
   "source": [
    "#확대\n",
    "img = cv2.imread('img.jpg')\n",
    "dst = cv2.resize(img, None, fx = 1.5, fy = 1.5, interpolation = cv2.INTER_CUBIC)\n",
    "\n",
    "cv2.imshow('img', img)\n",
    "cv2.imshow('resize', dst)\n",
    "cv2.waitKey(0)\n",
    "cv2.destroyAllWindows()"
   ]
  },
  {
   "cell_type": "markdown",
   "id": "daf17613-4974-49d4-8cf1-c316a6eef278",
   "metadata": {},
   "source": [
    "## 6.2 동영상\n",
    "### 고정크기"
   ]
  },
  {
   "cell_type": "code",
   "execution_count": 10,
   "id": "04d2f33a-9e80-4b7e-b7e5-15abaca10bef",
   "metadata": {},
   "outputs": [],
   "source": [
    "cap = cv2.VideoCapture('video.mp4')\n",
    "\n",
    "while cap.isOpened():\n",
    "    ret, frame = cap.read()\n",
    "    if not ret:\n",
    "        break\n",
    "        \n",
    "    frame_resized = cv2.resize(frame, (400, 500))\n",
    "    \n",
    "    cv2. imshow('video', frame_resized)\n",
    "    if cv2.waitKey(1) == ord('q'):\n",
    "        break\n",
    "        \n",
    "cap.release()\n",
    "cv2.destroyAllWindows()"
   ]
  },
  {
   "cell_type": "markdown",
   "id": "11f67d31-9e2f-462e-b08d-7254c6a53489",
   "metadata": {},
   "source": [
    "### 비율"
   ]
  },
  {
   "cell_type": "code",
   "execution_count": 11,
   "id": "205b2dbb-d0a9-4a0c-b473-3835b3a975b8",
   "metadata": {},
   "outputs": [],
   "source": [
    "cap = cv2.VideoCapture('video.mp4')\n",
    "\n",
    "while cap.isOpened():\n",
    "    ret, frame = cap.read()\n",
    "    if not ret:\n",
    "        break\n",
    "        \n",
    "    frame_resized = cv2.resize(frame, None, fx = 1.5, fy = 1.5, interpolation = cv2.INTER_CUBIC)\n",
    "    \n",
    "    cv2. imshow('video', frame_resized)\n",
    "    if cv2.waitKey(1) == ord('q'):\n",
    "        break\n",
    "        \n",
    "cap.release()\n",
    "cv2.destroyAllWindows()"
   ]
  },
  {
   "cell_type": "markdown",
   "id": "afae4d48-df37-4ac3-b94c-d358c283b190",
   "metadata": {},
   "source": [
    "# 7. 이미지 자르기\n",
    "## 7.1 영역을 잘라서 새로운 창에 표시"
   ]
  },
  {
   "cell_type": "code",
   "execution_count": 13,
   "id": "0cca93ab-a3fc-4d87-b576-313b0195ed24",
   "metadata": {},
   "outputs": [],
   "source": [
    "img = cv2.imread('img.jpg')\n",
    "# img.shape #(390, 640, 3)\n",
    "\n",
    "# crop = img[세로범위:가로법위]\n",
    "crop = img[100:200, 200:400]\n",
    "\n",
    "cv2.imshow('img', img)\n",
    "cv2.imshow('crop', crop)\n",
    "cv2.waitKey(0)\n",
    "cv2.destroyAllWindows()"
   ]
  },
  {
   "cell_type": "markdown",
   "id": "1957b524-4c82-4c96-9a8d-4e57f4033728",
   "metadata": {},
   "source": [
    "## 7.2 영역을 잘라서 기존 윈도우에 표시"
   ]
  },
  {
   "cell_type": "code",
   "execution_count": 14,
   "id": "94a46a65-2c6e-44cb-827e-cada9a01513c",
   "metadata": {},
   "outputs": [],
   "source": [
    "img = cv2.imread('img.jpg')\n",
    "# img.shape #(390, 640, 3)\n",
    "\n",
    "# crop = img[세로범위:가로법위]\n",
    "crop = img[100:200, 200:400]\n",
    "img[100:200, 400:600] = crop\n",
    "\n",
    "cv2.imshow('img', img)\n",
    "cv2.waitKey(0)\n",
    "cv2.destroyAllWindows()"
   ]
  },
  {
   "cell_type": "markdown",
   "id": "7cc05955-ee84-480f-b8b6-4c19399f7a4e",
   "metadata": {},
   "source": [
    "# 8. 이미지 대칭\n",
    "## 8.1 좌우 대칭"
   ]
  },
  {
   "cell_type": "code",
   "execution_count": 15,
   "id": "713c2338-3b12-4c87-bace-0f1cb8e6fbcd",
   "metadata": {},
   "outputs": [],
   "source": [
    "img = cv2.imread('img.jpg')\n",
    "\n",
    "flip_horizontal = cv2.flip(img, 1) #flipCode > 0 : 좌우대칭 horizontal\n",
    "\n",
    "cv2.imshow('img', img)\n",
    "cv2.imshow('flip_horizontal', flip_horizontal)\n",
    "cv2.waitKey(0)\n",
    "cv2.destroyAllWindows()"
   ]
  },
  {
   "cell_type": "markdown",
   "id": "27d361d3-4beb-4bcd-a9cd-f35a91a9dde7",
   "metadata": {},
   "source": [
    "## 8.2 상하 대칭"
   ]
  },
  {
   "cell_type": "code",
   "execution_count": 17,
   "id": "c3cdd445-0806-43b2-8844-9309a72ce134",
   "metadata": {},
   "outputs": [],
   "source": [
    "img = cv2.imread('img.jpg')\n",
    "\n",
    "flip_vertical = cv2.flip(img, 0) #flipCode == 0 : 상하대칭 flip_vertical\n",
    "\n",
    "cv2.imshow('img', img)\n",
    "cv2.imshow('flip_vertical', flip_vertical)\n",
    "cv2.waitKey(0)\n",
    "cv2.destroyAllWindows()"
   ]
  },
  {
   "cell_type": "markdown",
   "id": "4b3e9a4b-4d05-44a8-b29e-fbf8db22ea3c",
   "metadata": {},
   "source": [
    "## 8.3 상하좌우 대칭"
   ]
  },
  {
   "cell_type": "code",
   "execution_count": 18,
   "id": "3ee6812e-e2d9-48e4-8994-d3844414b76d",
   "metadata": {},
   "outputs": [],
   "source": [
    "img = cv2.imread('img.jpg')\n",
    "\n",
    "flip_both = cv2.flip(img, -1) #flipCode < 0 : 상하좌우\n",
    "\n",
    "cv2.imshow('img', img)\n",
    "cv2.imshow('flip_both', flip_both)\n",
    "cv2.waitKey(0)\n",
    "cv2.destroyAllWindows()"
   ]
  },
  {
   "cell_type": "markdown",
   "id": "a9db7188-e330-4bc0-9daf-b2c601021f4d",
   "metadata": {},
   "source": [
    "# 9. 이미지 회전\n",
    "## 9.1 시계방향 90도 회전"
   ]
  },
  {
   "cell_type": "code",
   "execution_count": 19,
   "id": "1fe0ca66-4aab-43b5-8a7b-0d143136a63a",
   "metadata": {},
   "outputs": [],
   "source": [
    "img = cv2.imread('img.jpg')\n",
    "\n",
    "rotate90 = cv2.rotate(img, cv2.ROTATE_90_CLOCKWISE)\n",
    "\n",
    "cv2.imshow('img', img)\n",
    "cv2.imshow('rotate90', rotate90)\n",
    "cv2.waitKey(0)\n",
    "cv2.destroyAllWindows()"
   ]
  },
  {
   "cell_type": "markdown",
   "id": "8f0cb393-fb8e-47c4-b43d-72a968ed5e5e",
   "metadata": {},
   "source": [
    "## 9.2 180도"
   ]
  },
  {
   "cell_type": "code",
   "execution_count": 22,
   "id": "2f9eebd1-1dcc-4d40-8778-3029bd4c69f1",
   "metadata": {},
   "outputs": [],
   "source": [
    "img = cv2.imread('img.jpg')\n",
    "\n",
    "rotate180 = cv2.rotate(img, cv2.ROTATE_180)\n",
    "\n",
    "cv2.imshow('img', img)\n",
    "cv2.imshow('rotate180', rotate180)\n",
    "cv2.waitKey(0)\n",
    "cv2.destroyAllWindows()"
   ]
  },
  {
   "cell_type": "markdown",
   "id": "efa66689-30e8-4bc9-8c4d-4e8983b08d23",
   "metadata": {},
   "source": [
    "## 9.3 시계반대 90"
   ]
  },
  {
   "cell_type": "code",
   "execution_count": 23,
   "id": "27c8293a-6807-4c82-820f-36b2ed9eb151",
   "metadata": {},
   "outputs": [],
   "source": [
    "img = cv2.imread('img.jpg')\n",
    "\n",
    "rotate270 = cv2.rotate(img, cv2.ROTATE_90_COUNTERCLOCKWISE)\n",
    "\n",
    "cv2.imshow('img', img)\n",
    "cv2.imshow('rotate270', rotate270)\n",
    "cv2.waitKey(0)\n",
    "cv2.destroyAllWindows()"
   ]
  },
  {
   "cell_type": "markdown",
   "id": "379801c1-c5da-4ad7-9c89-212516ae3d54",
   "metadata": {},
   "source": [
    "# 10. 이미지 변형(흑백)"
   ]
  },
  {
   "cell_type": "code",
   "execution_count": 24,
   "id": "0492f97a-b9b0-4a74-82a3-6041261aa2e0",
   "metadata": {},
   "outputs": [],
   "source": [
    "# 이미지를 흑백으로 읽음\n",
    "img_gray = cv2.imread('img.jpg', cv2.IMREAD_GRAYSCALE)\n",
    "cv2.imshow('img_gray', img_gray)\n",
    "cv2.waitKey(0)\n",
    "cv2.destroyAllWindows()"
   ]
  },
  {
   "cell_type": "code",
   "execution_count": 25,
   "id": "8dafb3c4-f704-4997-be28-954af0265ff3",
   "metadata": {},
   "outputs": [],
   "source": [
    "# 불러온 이미지를 흑백으로 변경\n",
    "img = cv2.imread('img.jpg')\n",
    "\n",
    "dst = cv2.cvtColor(img, cv2.COLOR_BGR2GRAY)\n",
    "\n",
    "cv2.imshow('img', img)\n",
    "cv2.imshow('dst', dst)\n",
    "cv2.waitKey(0)\n",
    "cv2.destroyAllWindows()"
   ]
  },
  {
   "cell_type": "markdown",
   "id": "23ff2b2d-6e75-48b8-895c-36e75fdedfdd",
   "metadata": {},
   "source": [
    "# 11. 이미지 변형(흐림)\n",
    "## 11.1 가우시안 블러"
   ]
  },
  {
   "cell_type": "code",
   "execution_count": 26,
   "id": "96a977c0-abff-4393-b88d-fd6be4910a32",
   "metadata": {},
   "outputs": [],
   "source": [
    "# 커널사이즈 변화에 따른 흐림\n",
    "img = cv2.imread('img.jpg')\n",
    "\n",
    "# (3,3), (5,5), (7,7)\n",
    "kernel3 = cv2.GaussianBlur(img, (3, 3), 0)\n",
    "kernel5 = cv2.GaussianBlur(img, (5, 5), 0)\n",
    "kernel7 = cv2.GaussianBlur(img, (7, 7), 0)\n",
    "\n",
    "cv2.imshow('img', img)\n",
    "cv2.imshow('kernel3', kernel3)\n",
    "cv2.imshow('kernel5', kernel5)\n",
    "cv2.imshow('kernel7', kernel7)\n",
    "cv2.waitKey(0)\n",
    "cv2.destroyAllWindows()"
   ]
  },
  {
   "cell_type": "code",
   "execution_count": 27,
   "id": "9e218a8f-709d-4306-8591-8e65adff1ac7",
   "metadata": {},
   "outputs": [],
   "source": [
    "# 표준편차에 따은 흐림\n",
    "img = cv2.imread('img.jpg')\n",
    "\n",
    "# sigmaX : 가우시안 커널의 x 방향의 표준 편차\n",
    "sigma3 = cv2.GaussianBlur(img, (0,0), 1)\n",
    "sigma5 = cv2.GaussianBlur(img, (0,0), 2)\n",
    "sigma7 = cv2.GaussianBlur(img, (0,0), 3)\n",
    "\n",
    "cv2.imshow('img', img)\n",
    "cv2.imshow('sigma3', sigma3)\n",
    "cv2.imshow('sigma5', sigma5)\n",
    "cv2.imshow('sigma7', sigma7)\n",
    "cv2.waitKey(0)\n",
    "cv2.destroyAllWindows()"
   ]
  },
  {
   "cell_type": "markdown",
   "id": "468f1fd0-5fbd-4691-a93f-fc3d95845d52",
   "metadata": {},
   "source": [
    "# 12. 이미지 변형(원근)"
   ]
  },
  {
   "cell_type": "code",
   "execution_count": 32,
   "id": "f4db0da7-d48f-4886-8a5a-b67a99aed100",
   "metadata": {},
   "outputs": [],
   "source": [
    "# 사다리꼴 이미지\n",
    "img = cv2.imread('newspaper.jpg')\n",
    "\n",
    "width, height = 640, 240\n",
    "\n",
    "src = np.array([[511, 352], [1008, 345], [1122, 584], [455, 594]], dtype = np.float32)\n",
    "dst = np.array([[0, 0], [width, 0], [width, height], [0, height]], dtype = np.float32)\n",
    "# 좌상 우상 우하 좌하 (시계방향으로 네지점 정의)\n",
    "\n",
    "matrix = cv2.getPerspectiveTransform(src, dst)\n",
    "result = cv2.warpPerspective(img, matrix, (width, height))\n",
    "\n",
    "cv2.imshow('img', img)\n",
    "cv2.imshow('result', result)\n",
    "cv2.waitKey(0)\n",
    "cv2.destroyAllWindows()"
   ]
  },
  {
   "cell_type": "code",
   "execution_count": 34,
   "id": "f9968da8-6797-48ab-9c87-17b13c8222b9",
   "metadata": {},
   "outputs": [],
   "source": [
    "# 회전된 이미지 원래대로 돌리기\n",
    "img = cv2.imread('poker.jpg')\n",
    "\n",
    "width, height = 530, 710\n",
    "\n",
    "src = np.array([[702, 143], [1133, 414], [726, 1007], [276, 700]], dtype = np.float32)\n",
    "dst = np.array([[0, 0], [width, 0], [width, height], [0, height]], dtype = np.float32)\n",
    "# 좌상 우상 우하 좌하 (시계방향으로 네지점 정의)\n",
    "\n",
    "matrix = cv2.getPerspectiveTransform(src, dst)\n",
    "result = cv2.warpPerspective(img, matrix, (width, height))\n",
    "\n",
    "cv2.imshow('img', img)\n",
    "cv2.imshow('result', result)\n",
    "cv2.waitKey(0)\n",
    "cv2.destroyAllWindows()"
   ]
  },
  {
   "cell_type": "markdown",
   "id": "a8194139-1e5c-472b-b91b-e636b0139247",
   "metadata": {},
   "source": [
    "# 13. 미니 프로젝트 : 반자동 문서 스캐너\n",
    "## 13.1 마우스 이벤트 등록"
   ]
  },
  {
   "cell_type": "code",
   "execution_count": 3,
   "id": "6ee65a12-1881-4d65-9bb3-c7494d21d9ec",
   "metadata": {},
   "outputs": [
    {
     "name": "stdout",
     "output_type": "stream",
     "text": [
      "왼쪽버튼 down\n",
      "808 339\n",
      "왼쪽버튼 up\n",
      "808 339\n",
      "왼쪽버튼 down\n",
      "704 146\n",
      "왼쪽버튼 up\n",
      "704 145\n",
      "왼쪽버튼 down\n",
      "1124 423\n",
      "왼쪽버튼 up\n",
      "1124 424\n"
     ]
    }
   ],
   "source": [
    "import cv2\n",
    "\n",
    "def mouse_handler(event, x, y, flags, param):\n",
    "    if event == cv2.EVENT_LBUTTONDOWN:\n",
    "        print('왼쪽버튼 down')\n",
    "        print(x, y)\n",
    "    elif event == cv2.EVENT_LBUTTONUP:\n",
    "        print('왼쪽버튼 up')\n",
    "        print(x, y)\n",
    "    elif event == cv2.EVENT_LBUTTONDBLCLK:\n",
    "        print('왼쪽더블클릭')\n",
    "#     elif event == cv2.EVENT_MOUSEMOVE:\n",
    "#         print('마우스이동')\n",
    "    elif event == cv2.EVENT_RBUTTONDOWN:\n",
    "        print('오른쪽버튼 다운')\n",
    "        \n",
    "    \n",
    "\n",
    "img = cv2.imread('poker.jpg')\n",
    "cv2.namedWindow('img')\n",
    "cv2.setMouseCallback('img', mouse_handler)\n",
    "cv2.imshow('img', img)\n",
    "cv2.waitKey(0)\n",
    "cv2.destroyAllWindows()"
   ]
  },
  {
   "cell_type": "markdown",
   "id": "d9702f8a-f164-4ab6-b96a-67ce6a267954",
   "metadata": {},
   "source": [
    "## 13.2 프로젝트"
   ]
  },
  {
   "cell_type": "code",
   "execution_count": 16,
   "id": "717c2957-1bfe-4a1f-9610-1de71fcf6200",
   "metadata": {},
   "outputs": [],
   "source": [
    "import cv2\n",
    "\n",
    "COLOR = (255, 0, 255)\n",
    "THICKNESS = 3\n",
    "drawing = False\n",
    "\n",
    "point_list = []\n",
    "\n",
    "def mouse_handler(event, x, y, flags, param):\n",
    "    global drawing\n",
    "    dst_img = src_img.copy()\n",
    "    \n",
    "    if event == cv2.EVENT_LBUTTONDOWN:\n",
    "        drawing = True\n",
    "        point_list.append((x, y))\n",
    "    \n",
    "    if drawing:\n",
    "        prev_point = None # 직선 시작점\n",
    "        for point in point_list:\n",
    "            cv2.circle(dst_img, point, 15, COLOR, cv2.FILLED)\n",
    "            if prev_point:\n",
    "                cv2.line(dst_img, prev_point, point, COLOR, THICKNESS, cv2.LINE_AA)\n",
    "            prev_point = point\n",
    "        next_point = (x, y)\n",
    "        if len(point_list) == 4:\n",
    "            show_result()\n",
    "            next_point = point_list[0]\n",
    "            \n",
    "        cv2.line(dst_img, prev_point, next_point, COLOR, THICKNESS, cv2.LINE_AA)\n",
    "        \n",
    "    cv2.imshow('img', dst_img)\n",
    "    \n",
    "def show_result():\n",
    "    width, height = 530, 710\n",
    "    src = np.float32(point_list)\n",
    "    dst = np.array([[0, 0], [width, 0], [width, height], [0, height]], dtype = np.float32)\n",
    "    matrix = cv2.getPerspectiveTransform(src, dst)\n",
    "    result = cv2.warpPerspective(src_img, matrix, (width, height))\n",
    "    cv2.imshow('result', result)\n",
    "\n",
    "src_img = cv2.imread('poker.jpg')\n",
    "\n",
    "cv2.namedWindow('img')\n",
    "cv2.setMouseCallback('img', mouse_handler)\n",
    "cv2.imshow('img', src_img)\n",
    "cv2.waitKey(0)\n",
    "cv2.destroyAllWindows()"
   ]
  },
  {
   "cell_type": "markdown",
   "id": "e26d4b7d-d46e-49ba-aae1-b68eeb92ded5",
   "metadata": {},
   "source": [
    "# 14. 이미지 변형(이진화)"
   ]
  },
  {
   "cell_type": "code",
   "execution_count": 7,
   "id": "6c2ebff6-7c43-4713-82fa-d84ebb7485e8",
   "metadata": {},
   "outputs": [],
   "source": [
    "img = cv2.imread('book.jpg', cv2.IMREAD_GRAYSCALE)\n",
    "\n",
    "ret, binary = cv2.threshold(img, 127, 255, cv2.THRESH_BINARY) # 127보다크면 흰색 아니면 검정\n",
    "\n",
    "cv2.imshow('img', img)\n",
    "cv2.imshow('binary', binary)\n",
    "\n",
    "cv2.waitKey(0)\n",
    "cv2.destroyAllWindows()"
   ]
  },
  {
   "cell_type": "markdown",
   "id": "ead4e78a-93dd-45bb-9aaa-a4bffe90fe32",
   "metadata": {},
   "source": [
    "### Trackbar 값 변화에 따른 변형 확인"
   ]
  },
  {
   "cell_type": "code",
   "execution_count": 7,
   "id": "177cd87a-662b-4323-af00-c747d0db4ec4",
   "metadata": {},
   "outputs": [],
   "source": [
    "img = cv2.imread('book.jpg', cv2.IMREAD_GRAYSCALE)\n",
    "\n",
    "ret, binary = cv2.threshold(img, 127, 255, cv2.THRESH_BINARY) # 127보다크면 흰색 아니면 검정\n",
    "\n",
    "cv2.imshow('img', img)\n",
    "cv2.imshow('binary', binary)\n",
    "\n",
    "cv2.waitKey(0)\n",
    "cv2.destroyAllWindows()"
   ]
  }
 ],
 "metadata": {
  "kernelspec": {
   "display_name": "Python 3 (ipykernel)",
   "language": "python",
   "name": "python3"
  },
  "language_info": {
   "codemirror_mode": {
    "name": "ipython",
    "version": 3
   },
   "file_extension": ".py",
   "mimetype": "text/x-python",
   "name": "python",
   "nbconvert_exporter": "python",
   "pygments_lexer": "ipython3",
   "version": "3.8.8"
  }
 },
 "nbformat": 4,
 "nbformat_minor": 5
}
